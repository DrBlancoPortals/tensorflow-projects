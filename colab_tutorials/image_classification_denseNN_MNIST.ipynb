{
  "nbformat": 4,
  "nbformat_minor": 0,
  "metadata": {
    "colab": {
      "provenance": []
    },
    "kernelspec": {
      "name": "python3",
      "display_name": "Python 3"
    },
    "language_info": {
      "name": "python"
    }
  },
  "cells": [
    {
      "cell_type": "markdown",
      "source": [
        "# Tensorflow for classification\n",
        "\n",
        "This notebook will explore the possibility of implementing a deep NN to perform image classification\n",
        "\n",
        "To do so, we will train a net to identify numerical values of handwriten numbers, by using the famous MNIST dataset. \n",
        "\n",
        "This is far from the state-of-the-art. As a matter of fact, the classification of this dataset is considered an outdated problem, as any modern architecture is capable of clearly performing to a high degree of accuracy.\n",
        "\n",
        "Nonetheless, given its historical importance and the fact that Google Colab provides us with the actual set in the /sample_data directory, we will try it here\n",
        "\n",
        "## Deep Neural Network - Dense layers for classification\n",
        "\n",
        "The first attempt will be done using a series of dense layers with non-linear activations. Let's see to what extent we can train a model like this to classify numerical values."
      ],
      "metadata": {
        "id": "orPkPWUt-ulh"
      }
    },
    {
      "cell_type": "code",
      "execution_count": 1,
      "metadata": {
        "id": "UzNvMKdz-nF4"
      },
      "outputs": [],
      "source": [
        "import pathlib\n",
        "import os\n",
        "\n",
        "import tensorflow as tf\n",
        "import numpy as np\n",
        "import pandas as pd\n",
        "import matplotlib.pyplot as plt\n",
        "import seaborn as sn"
      ]
    },
    {
      "cell_type": "markdown",
      "source": [
        "Let's check the dataset"
      ],
      "metadata": {
        "id": "T3-RDxslABoq"
      }
    },
    {
      "cell_type": "code",
      "source": [
        "print(f'Current directory : {os.getcwd()}\\nCurrent directory contents: {os.listdir()}')"
      ],
      "metadata": {
        "colab": {
          "base_uri": "https://localhost:8080/"
        },
        "id": "lk08YPyRAGXf",
        "outputId": "5ac8b3e6-6a44-4aea-dd04-f76077e7454f"
      },
      "execution_count": 2,
      "outputs": [
        {
          "output_type": "stream",
          "name": "stdout",
          "text": [
            "Current directory : /content\n",
            "Current directory contents: ['.config', 'sample_data']\n"
          ]
        }
      ]
    },
    {
      "cell_type": "code",
      "source": [
        "print('Contents of sample data directory')\n",
        "for i,el in enumerate(os.listdir('./sample_data')):\n",
        "  print(f'{i} : {el}')"
      ],
      "metadata": {
        "colab": {
          "base_uri": "https://localhost:8080/"
        },
        "id": "eOQJG6raAawn",
        "outputId": "729e86af-2c21-473d-cd42-215aa652718e"
      },
      "execution_count": 3,
      "outputs": [
        {
          "output_type": "stream",
          "name": "stdout",
          "text": [
            "Contents of sample data directory\n",
            "0 : anscombe.json\n",
            "1 : README.md\n",
            "2 : california_housing_test.csv\n",
            "3 : mnist_train_small.csv\n",
            "4 : mnist_test.csv\n",
            "5 : california_housing_train.csv\n"
          ]
        }
      ]
    },
    {
      "cell_type": "code",
      "source": [
        "path_to_file = pathlib.Path('.') / 'sample_data'\n",
        "assert path_to_file.is_dir()\n",
        "file_name = 'mnist_train_small.csv'\n",
        "file_path = path_to_file / file_name\n",
        "assert file_path.is_file() "
      ],
      "metadata": {
        "id": "q7o8_YKp_-fj"
      },
      "execution_count": 5,
      "outputs": []
    },
    {
      "cell_type": "markdown",
      "source": [
        "The csv file is organized as follows:\n",
        "\n",
        "1. Each row is a handwriten digit image. The first element of the row is the label - the true value\n",
        "\n",
        "2. The images are flatten to be a row single vector\n",
        "\n",
        "3. The original images shape is 28 x 28"
      ],
      "metadata": {
        "id": "UvwPkKMOB7nr"
      }
    },
    {
      "cell_type": "code",
      "source": [
        "df = pd.read_csv(file_path,names =  [i for i in range(785)])\n",
        "df.head(10)"
      ],
      "metadata": {
        "colab": {
          "base_uri": "https://localhost:8080/",
          "height": 392
        },
        "id": "BfbnYBUyAvO3",
        "outputId": "c699207e-3bdb-49d1-ceeb-0b8d35b42212"
      },
      "execution_count": 9,
      "outputs": [
        {
          "output_type": "execute_result",
          "data": {
            "text/plain": [
              "   0    1    2    3    4    5    6    7    8    9    ...  775  776  777  778  \\\n",
              "0    6    0    0    0    0    0    0    0    0    0  ...    0    0    0    0   \n",
              "1    5    0    0    0    0    0    0    0    0    0  ...    0    0    0    0   \n",
              "2    7    0    0    0    0    0    0    0    0    0  ...    0    0    0    0   \n",
              "3    9    0    0    0    0    0    0    0    0    0  ...    0    0    0    0   \n",
              "4    5    0    0    0    0    0    0    0    0    0  ...    0    0    0    0   \n",
              "5    2    0    0    0    0    0    0    0    0    0  ...    0    0    0    0   \n",
              "6    0    0    0    0    0    0    0    0    0    0  ...    0    0    0    0   \n",
              "7    6    0    0    0    0    0    0    0    0    0  ...    0    0    0    0   \n",
              "8    5    0    0    0    0    0    0    0    0    0  ...    0    0    0    0   \n",
              "9    5    0    0    0    0    0    0    0    0    0  ...    0    0    0    0   \n",
              "\n",
              "   779  780  781  782  783  784  \n",
              "0    0    0    0    0    0    0  \n",
              "1    0    0    0    0    0    0  \n",
              "2    0    0    0    0    0    0  \n",
              "3    0    0    0    0    0    0  \n",
              "4    0    0    0    0    0    0  \n",
              "5    0    0    0    0    0    0  \n",
              "6    0    0    0    0    0    0  \n",
              "7    0    0    0    0    0    0  \n",
              "8    0    0    0    0    0    0  \n",
              "9    0    0    0    0    0    0  \n",
              "\n",
              "[10 rows x 785 columns]"
            ],
            "text/html": [
              "\n",
              "  <div id=\"df-ef39e1a3-f350-472c-b7b2-4655a5776a0b\">\n",
              "    <div class=\"colab-df-container\">\n",
              "      <div>\n",
              "<style scoped>\n",
              "    .dataframe tbody tr th:only-of-type {\n",
              "        vertical-align: middle;\n",
              "    }\n",
              "\n",
              "    .dataframe tbody tr th {\n",
              "        vertical-align: top;\n",
              "    }\n",
              "\n",
              "    .dataframe thead th {\n",
              "        text-align: right;\n",
              "    }\n",
              "</style>\n",
              "<table border=\"1\" class=\"dataframe\">\n",
              "  <thead>\n",
              "    <tr style=\"text-align: right;\">\n",
              "      <th></th>\n",
              "      <th>0</th>\n",
              "      <th>1</th>\n",
              "      <th>2</th>\n",
              "      <th>3</th>\n",
              "      <th>4</th>\n",
              "      <th>5</th>\n",
              "      <th>6</th>\n",
              "      <th>7</th>\n",
              "      <th>8</th>\n",
              "      <th>9</th>\n",
              "      <th>...</th>\n",
              "      <th>775</th>\n",
              "      <th>776</th>\n",
              "      <th>777</th>\n",
              "      <th>778</th>\n",
              "      <th>779</th>\n",
              "      <th>780</th>\n",
              "      <th>781</th>\n",
              "      <th>782</th>\n",
              "      <th>783</th>\n",
              "      <th>784</th>\n",
              "    </tr>\n",
              "  </thead>\n",
              "  <tbody>\n",
              "    <tr>\n",
              "      <th>0</th>\n",
              "      <td>6</td>\n",
              "      <td>0</td>\n",
              "      <td>0</td>\n",
              "      <td>0</td>\n",
              "      <td>0</td>\n",
              "      <td>0</td>\n",
              "      <td>0</td>\n",
              "      <td>0</td>\n",
              "      <td>0</td>\n",
              "      <td>0</td>\n",
              "      <td>...</td>\n",
              "      <td>0</td>\n",
              "      <td>0</td>\n",
              "      <td>0</td>\n",
              "      <td>0</td>\n",
              "      <td>0</td>\n",
              "      <td>0</td>\n",
              "      <td>0</td>\n",
              "      <td>0</td>\n",
              "      <td>0</td>\n",
              "      <td>0</td>\n",
              "    </tr>\n",
              "    <tr>\n",
              "      <th>1</th>\n",
              "      <td>5</td>\n",
              "      <td>0</td>\n",
              "      <td>0</td>\n",
              "      <td>0</td>\n",
              "      <td>0</td>\n",
              "      <td>0</td>\n",
              "      <td>0</td>\n",
              "      <td>0</td>\n",
              "      <td>0</td>\n",
              "      <td>0</td>\n",
              "      <td>...</td>\n",
              "      <td>0</td>\n",
              "      <td>0</td>\n",
              "      <td>0</td>\n",
              "      <td>0</td>\n",
              "      <td>0</td>\n",
              "      <td>0</td>\n",
              "      <td>0</td>\n",
              "      <td>0</td>\n",
              "      <td>0</td>\n",
              "      <td>0</td>\n",
              "    </tr>\n",
              "    <tr>\n",
              "      <th>2</th>\n",
              "      <td>7</td>\n",
              "      <td>0</td>\n",
              "      <td>0</td>\n",
              "      <td>0</td>\n",
              "      <td>0</td>\n",
              "      <td>0</td>\n",
              "      <td>0</td>\n",
              "      <td>0</td>\n",
              "      <td>0</td>\n",
              "      <td>0</td>\n",
              "      <td>...</td>\n",
              "      <td>0</td>\n",
              "      <td>0</td>\n",
              "      <td>0</td>\n",
              "      <td>0</td>\n",
              "      <td>0</td>\n",
              "      <td>0</td>\n",
              "      <td>0</td>\n",
              "      <td>0</td>\n",
              "      <td>0</td>\n",
              "      <td>0</td>\n",
              "    </tr>\n",
              "    <tr>\n",
              "      <th>3</th>\n",
              "      <td>9</td>\n",
              "      <td>0</td>\n",
              "      <td>0</td>\n",
              "      <td>0</td>\n",
              "      <td>0</td>\n",
              "      <td>0</td>\n",
              "      <td>0</td>\n",
              "      <td>0</td>\n",
              "      <td>0</td>\n",
              "      <td>0</td>\n",
              "      <td>...</td>\n",
              "      <td>0</td>\n",
              "      <td>0</td>\n",
              "      <td>0</td>\n",
              "      <td>0</td>\n",
              "      <td>0</td>\n",
              "      <td>0</td>\n",
              "      <td>0</td>\n",
              "      <td>0</td>\n",
              "      <td>0</td>\n",
              "      <td>0</td>\n",
              "    </tr>\n",
              "    <tr>\n",
              "      <th>4</th>\n",
              "      <td>5</td>\n",
              "      <td>0</td>\n",
              "      <td>0</td>\n",
              "      <td>0</td>\n",
              "      <td>0</td>\n",
              "      <td>0</td>\n",
              "      <td>0</td>\n",
              "      <td>0</td>\n",
              "      <td>0</td>\n",
              "      <td>0</td>\n",
              "      <td>...</td>\n",
              "      <td>0</td>\n",
              "      <td>0</td>\n",
              "      <td>0</td>\n",
              "      <td>0</td>\n",
              "      <td>0</td>\n",
              "      <td>0</td>\n",
              "      <td>0</td>\n",
              "      <td>0</td>\n",
              "      <td>0</td>\n",
              "      <td>0</td>\n",
              "    </tr>\n",
              "    <tr>\n",
              "      <th>5</th>\n",
              "      <td>2</td>\n",
              "      <td>0</td>\n",
              "      <td>0</td>\n",
              "      <td>0</td>\n",
              "      <td>0</td>\n",
              "      <td>0</td>\n",
              "      <td>0</td>\n",
              "      <td>0</td>\n",
              "      <td>0</td>\n",
              "      <td>0</td>\n",
              "      <td>...</td>\n",
              "      <td>0</td>\n",
              "      <td>0</td>\n",
              "      <td>0</td>\n",
              "      <td>0</td>\n",
              "      <td>0</td>\n",
              "      <td>0</td>\n",
              "      <td>0</td>\n",
              "      <td>0</td>\n",
              "      <td>0</td>\n",
              "      <td>0</td>\n",
              "    </tr>\n",
              "    <tr>\n",
              "      <th>6</th>\n",
              "      <td>0</td>\n",
              "      <td>0</td>\n",
              "      <td>0</td>\n",
              "      <td>0</td>\n",
              "      <td>0</td>\n",
              "      <td>0</td>\n",
              "      <td>0</td>\n",
              "      <td>0</td>\n",
              "      <td>0</td>\n",
              "      <td>0</td>\n",
              "      <td>...</td>\n",
              "      <td>0</td>\n",
              "      <td>0</td>\n",
              "      <td>0</td>\n",
              "      <td>0</td>\n",
              "      <td>0</td>\n",
              "      <td>0</td>\n",
              "      <td>0</td>\n",
              "      <td>0</td>\n",
              "      <td>0</td>\n",
              "      <td>0</td>\n",
              "    </tr>\n",
              "    <tr>\n",
              "      <th>7</th>\n",
              "      <td>6</td>\n",
              "      <td>0</td>\n",
              "      <td>0</td>\n",
              "      <td>0</td>\n",
              "      <td>0</td>\n",
              "      <td>0</td>\n",
              "      <td>0</td>\n",
              "      <td>0</td>\n",
              "      <td>0</td>\n",
              "      <td>0</td>\n",
              "      <td>...</td>\n",
              "      <td>0</td>\n",
              "      <td>0</td>\n",
              "      <td>0</td>\n",
              "      <td>0</td>\n",
              "      <td>0</td>\n",
              "      <td>0</td>\n",
              "      <td>0</td>\n",
              "      <td>0</td>\n",
              "      <td>0</td>\n",
              "      <td>0</td>\n",
              "    </tr>\n",
              "    <tr>\n",
              "      <th>8</th>\n",
              "      <td>5</td>\n",
              "      <td>0</td>\n",
              "      <td>0</td>\n",
              "      <td>0</td>\n",
              "      <td>0</td>\n",
              "      <td>0</td>\n",
              "      <td>0</td>\n",
              "      <td>0</td>\n",
              "      <td>0</td>\n",
              "      <td>0</td>\n",
              "      <td>...</td>\n",
              "      <td>0</td>\n",
              "      <td>0</td>\n",
              "      <td>0</td>\n",
              "      <td>0</td>\n",
              "      <td>0</td>\n",
              "      <td>0</td>\n",
              "      <td>0</td>\n",
              "      <td>0</td>\n",
              "      <td>0</td>\n",
              "      <td>0</td>\n",
              "    </tr>\n",
              "    <tr>\n",
              "      <th>9</th>\n",
              "      <td>5</td>\n",
              "      <td>0</td>\n",
              "      <td>0</td>\n",
              "      <td>0</td>\n",
              "      <td>0</td>\n",
              "      <td>0</td>\n",
              "      <td>0</td>\n",
              "      <td>0</td>\n",
              "      <td>0</td>\n",
              "      <td>0</td>\n",
              "      <td>...</td>\n",
              "      <td>0</td>\n",
              "      <td>0</td>\n",
              "      <td>0</td>\n",
              "      <td>0</td>\n",
              "      <td>0</td>\n",
              "      <td>0</td>\n",
              "      <td>0</td>\n",
              "      <td>0</td>\n",
              "      <td>0</td>\n",
              "      <td>0</td>\n",
              "    </tr>\n",
              "  </tbody>\n",
              "</table>\n",
              "<p>10 rows × 785 columns</p>\n",
              "</div>\n",
              "      <button class=\"colab-df-convert\" onclick=\"convertToInteractive('df-ef39e1a3-f350-472c-b7b2-4655a5776a0b')\"\n",
              "              title=\"Convert this dataframe to an interactive table.\"\n",
              "              style=\"display:none;\">\n",
              "        \n",
              "  <svg xmlns=\"http://www.w3.org/2000/svg\" height=\"24px\"viewBox=\"0 0 24 24\"\n",
              "       width=\"24px\">\n",
              "    <path d=\"M0 0h24v24H0V0z\" fill=\"none\"/>\n",
              "    <path d=\"M18.56 5.44l.94 2.06.94-2.06 2.06-.94-2.06-.94-.94-2.06-.94 2.06-2.06.94zm-11 1L8.5 8.5l.94-2.06 2.06-.94-2.06-.94L8.5 2.5l-.94 2.06-2.06.94zm10 10l.94 2.06.94-2.06 2.06-.94-2.06-.94-.94-2.06-.94 2.06-2.06.94z\"/><path d=\"M17.41 7.96l-1.37-1.37c-.4-.4-.92-.59-1.43-.59-.52 0-1.04.2-1.43.59L10.3 9.45l-7.72 7.72c-.78.78-.78 2.05 0 2.83L4 21.41c.39.39.9.59 1.41.59.51 0 1.02-.2 1.41-.59l7.78-7.78 2.81-2.81c.8-.78.8-2.07 0-2.86zM5.41 20L4 18.59l7.72-7.72 1.47 1.35L5.41 20z\"/>\n",
              "  </svg>\n",
              "      </button>\n",
              "      \n",
              "  <style>\n",
              "    .colab-df-container {\n",
              "      display:flex;\n",
              "      flex-wrap:wrap;\n",
              "      gap: 12px;\n",
              "    }\n",
              "\n",
              "    .colab-df-convert {\n",
              "      background-color: #E8F0FE;\n",
              "      border: none;\n",
              "      border-radius: 50%;\n",
              "      cursor: pointer;\n",
              "      display: none;\n",
              "      fill: #1967D2;\n",
              "      height: 32px;\n",
              "      padding: 0 0 0 0;\n",
              "      width: 32px;\n",
              "    }\n",
              "\n",
              "    .colab-df-convert:hover {\n",
              "      background-color: #E2EBFA;\n",
              "      box-shadow: 0px 1px 2px rgba(60, 64, 67, 0.3), 0px 1px 3px 1px rgba(60, 64, 67, 0.15);\n",
              "      fill: #174EA6;\n",
              "    }\n",
              "\n",
              "    [theme=dark] .colab-df-convert {\n",
              "      background-color: #3B4455;\n",
              "      fill: #D2E3FC;\n",
              "    }\n",
              "\n",
              "    [theme=dark] .colab-df-convert:hover {\n",
              "      background-color: #434B5C;\n",
              "      box-shadow: 0px 1px 3px 1px rgba(0, 0, 0, 0.15);\n",
              "      filter: drop-shadow(0px 1px 2px rgba(0, 0, 0, 0.3));\n",
              "      fill: #FFFFFF;\n",
              "    }\n",
              "  </style>\n",
              "\n",
              "      <script>\n",
              "        const buttonEl =\n",
              "          document.querySelector('#df-ef39e1a3-f350-472c-b7b2-4655a5776a0b button.colab-df-convert');\n",
              "        buttonEl.style.display =\n",
              "          google.colab.kernel.accessAllowed ? 'block' : 'none';\n",
              "\n",
              "        async function convertToInteractive(key) {\n",
              "          const element = document.querySelector('#df-ef39e1a3-f350-472c-b7b2-4655a5776a0b');\n",
              "          const dataTable =\n",
              "            await google.colab.kernel.invokeFunction('convertToInteractive',\n",
              "                                                     [key], {});\n",
              "          if (!dataTable) return;\n",
              "\n",
              "          const docLinkHtml = 'Like what you see? Visit the ' +\n",
              "            '<a target=\"_blank\" href=https://colab.research.google.com/notebooks/data_table.ipynb>data table notebook</a>'\n",
              "            + ' to learn more about interactive tables.';\n",
              "          element.innerHTML = '';\n",
              "          dataTable['output_type'] = 'display_data';\n",
              "          await google.colab.output.renderOutput(dataTable, element);\n",
              "          const docLink = document.createElement('div');\n",
              "          docLink.innerHTML = docLinkHtml;\n",
              "          element.appendChild(docLink);\n",
              "        }\n",
              "      </script>\n",
              "    </div>\n",
              "  </div>\n",
              "  "
            ]
          },
          "metadata": {},
          "execution_count": 9
        }
      ]
    },
    {
      "cell_type": "markdown",
      "source": [
        "As we are passing the images to a dense layer first (no convolutional layers yet) we are not going to unravel the shapes. However, for the sake o inspecting the actual images used, let's visualize some of them. Notice that they are grey scale images."
      ],
      "metadata": {
        "id": "HkxNpaytCcWy"
      }
    },
    {
      "cell_type": "code",
      "source": [
        "df.shape\n",
        "# 20000 images, a lot"
      ],
      "metadata": {
        "colab": {
          "base_uri": "https://localhost:8080/"
        },
        "id": "pCy2X6fEBA13",
        "outputId": "b4fc05bd-f636-49d0-9acf-a03a10e26474"
      },
      "execution_count": 23,
      "outputs": [
        {
          "output_type": "execute_result",
          "data": {
            "text/plain": [
              "(20000, 785)"
            ]
          },
          "metadata": {},
          "execution_count": 23
        }
      ]
    },
    {
      "cell_type": "code",
      "source": [
        "import random"
      ],
      "metadata": {
        "id": "z-ZznCXFC_Bp"
      },
      "execution_count": 12,
      "outputs": []
    },
    {
      "cell_type": "code",
      "source": [
        "fig, axes = plt.subplots(nrows = 2, ncols = 4, figsize = (12,6), squeeze=False)\n",
        "for i, ax in enumerate(axes.flatten()):\n",
        "  number = random.randint(0, 20000)\n",
        "  label = df.iloc[number][0]\n",
        "  data = df.iloc[number][1:].to_numpy().reshape((28,28))\n",
        "  ax.imshow(data, cmap = 'Greys')\n",
        "  ax.set_title(f'True value - {label}')\n",
        "  ax.set_xticks([])\n",
        "  ax.set_yticks([])\n"
      ],
      "metadata": {
        "colab": {
          "base_uri": "https://localhost:8080/",
          "height": 513
        },
        "id": "xrs3E_wrCsvR",
        "outputId": "8fc047c2-4729-47f3-8117-be269710596e"
      },
      "execution_count": 27,
      "outputs": [
        {
          "output_type": "display_data",
          "data": {
            "text/plain": [
              "<Figure size 1200x600 with 8 Axes>"
            ],
            "image/png": "[encoded data removed]"
          },
          "metadata": {}
        }
      ]
    },
    {
      "cell_type": "markdown",
      "source": [
        "Alright, let's try a NN architecture"
      ],
      "metadata": {
        "id": "xwE9pubuEP6J"
      }
    },
    {
      "cell_type": "code",
      "source": [
        "model = tf.keras.Sequential(\n",
        "    [\n",
        "        tf.keras.layers.Dense(512, activation = 'relu', input_shape = (28*28,)),\n",
        "        tf.keras.layers.Dense(128, activation = 'relu'),\n",
        "        tf.keras.layers.Dense(10, activation = 'softmax')\n",
        "    ]\n",
        ")\n",
        "\n",
        "model.compile(loss = 'sparse_categorical_crossentropy', optimizer = tf.keras.optimizers.Adam(learning_rate = 0.01), metrics = ['accuracy'])"
      ],
      "metadata": {
        "id": "m0OybAHgCTih"
      },
      "execution_count": 69,
      "outputs": []
    },
    {
      "cell_type": "markdown",
      "source": [
        "Now, here's the thing ... feeding 20000 images at once to the net... not a great idea. In colab I'm going to end up waiting for a long long time.\n",
        "\n",
        "We can try to batch the training sample space"
      ],
      "metadata": {
        "id": "B-_ICTTVFUsK"
      }
    },
    {
      "cell_type": "code",
      "source": [
        "dataset = tf.data.Dataset.from_tensor_slices(df.to_numpy().astype(np.float32))\n",
        "dataset = dataset.map(lambda data : (data[1:] / 255. ,data[0]))\n",
        "dataset = dataset.shuffle(1000)\n",
        "dataset = dataset.batch(100).prefetch(1)"
      ],
      "metadata": {
        "id": "_9fqUvrBGJdo"
      },
      "execution_count": 71,
      "outputs": []
    },
    {
      "cell_type": "code",
      "source": [
        "for i, el in enumerate(dataset):\n",
        "  if i == 0:\n",
        "    print('number -', i)\n",
        "    print(len(el))\n",
        "    for k, datael in enumerate(el):\n",
        "      print('numero', k)\n",
        "      print(datael.shape)"
      ],
      "metadata": {
        "colab": {
          "base_uri": "https://localhost:8080/"
        },
        "id": "Dw-EcqvsHMgo",
        "outputId": "8d52b906-5097-4976-e5a9-f92af87c4864"
      },
      "execution_count": 72,
      "outputs": [
        {
          "output_type": "stream",
          "name": "stdout",
          "text": [
            "number - 0\n",
            "2\n",
            "numero 0\n",
            "(100, 784)\n",
            "numero 1\n",
            "(100,)\n"
          ]
        }
      ]
    },
    {
      "cell_type": "code",
      "source": [
        "model_h = model.fit(dataset, epochs = 10)"
      ],
      "metadata": {
        "colab": {
          "base_uri": "https://localhost:8080/"
        },
        "id": "9p06XnOPGePP",
        "outputId": "1f9db152-ed6c-40f6-fb6e-5eb8e289cbee"
      },
      "execution_count": 73,
      "outputs": [
        {
          "output_type": "stream",
          "name": "stdout",
          "text": [
            "Epoch 1/10\n",
            "200/200 [==============================] - 4s 15ms/step - loss: 0.3712 - accuracy: 0.8889\n",
            "Epoch 2/10\n",
            "200/200 [==============================] - 4s 21ms/step - loss: 0.1564 - accuracy: 0.9516\n",
            "Epoch 3/10\n",
            "200/200 [==============================] - 3s 15ms/step - loss: 0.1123 - accuracy: 0.9665\n",
            "Epoch 4/10\n",
            "200/200 [==============================] - 3s 15ms/step - loss: 0.0893 - accuracy: 0.9706\n",
            "Epoch 5/10\n",
            "200/200 [==============================] - 3s 16ms/step - loss: 0.0879 - accuracy: 0.9747\n",
            "Epoch 6/10\n",
            "200/200 [==============================] - 4s 20ms/step - loss: 0.0810 - accuracy: 0.9757\n",
            "Epoch 7/10\n",
            "200/200 [==============================] - 3s 15ms/step - loss: 0.0745 - accuracy: 0.9776\n",
            "Epoch 8/10\n",
            "200/200 [==============================] - 3s 15ms/step - loss: 0.0622 - accuracy: 0.9817\n",
            "Epoch 9/10\n",
            "200/200 [==============================] - 4s 17ms/step - loss: 0.0617 - accuracy: 0.9819\n",
            "Epoch 10/10\n",
            "200/200 [==============================] - 3s 15ms/step - loss: 0.0520 - accuracy: 0.9851\n"
          ]
        }
      ]
    },
    {
      "cell_type": "code",
      "source": [
        "fig = plt.figure(figsize = (9,4.5))\n",
        "plt.grid(True)\n",
        "plt.title('Loss function over epochs')\n",
        "plt.scatter(model_h.epoch, model_h.history['loss'])\n",
        "plt.xlabel('Epoch number')\n",
        "plt.ylabel('Sparse Cross Entropy Loss')\n",
        "plt.show()"
      ],
      "metadata": {
        "colab": {
          "base_uri": "https://localhost:8080/",
          "height": 449
        },
        "id": "DYfADFTIJnSg",
        "outputId": "4f8036ea-1934-423a-b8ec-2e77bf2c51e5"
      },
      "execution_count": 75,
      "outputs": [
        {
          "output_type": "display_data",
          "data": {
            "text/plain": [
              "<Figure size 900x450 with 1 Axes>"
            ],
            "image/png": "[encoded data removed]"
          },
          "metadata": {}
        }
      ]
    },
    {
      "cell_type": "markdown",
      "source": [
        "Alright, not bad, but with margin of imrpoving the model\n",
        "\n",
        "Let's try something fun. Let's allow for a variable learning rate in the optimizer, and plot the resulting values as we advance on epochs. At some point, we will observe stability problems, and that is when we will try to stablish the limit"
      ],
      "metadata": {
        "id": "asD8U9zBKiOD"
      }
    },
    {
      "cell_type": "code",
      "source": [
        "INITIAL_LR = 1e-5\n",
        "\n",
        "lr_schedule = tf.keras.callbacks.LearningRateScheduler(lambda epoch : INITIAL_LR * 10 ** (epoch / 10))\n",
        "\n",
        "optimizer = tf.keras.optimizers.Adam(learning_rate= INITIAL_LR) # So we have the same initial learning rate as the equation\n",
        "\n",
        "model = tf.keras.Sequential(\n",
        "    [\n",
        "        tf.keras.layers.Dense(512, activation = 'relu', input_shape = (28*28,)),\n",
        "        tf.keras.layers.Dense(128, activation = 'relu'),\n",
        "        tf.keras.layers.Dense(10, activation = 'softmax')\n",
        "    ]\n",
        ")\n",
        "\n",
        "\n",
        "model.compile(\n",
        "    loss = tf.keras.losses.SparseCategoricalCrossentropy(),\n",
        "    optimizer = optimizer,\n",
        "    metrics = ['accuracy']\n",
        ")"
      ],
      "metadata": {
        "id": "gxFATOThHD0p"
      },
      "execution_count": 85,
      "outputs": []
    },
    {
      "cell_type": "code",
      "source": [
        "model_h = model.fit(dataset, epochs = 50, callbacks=[lr_schedule])"
      ],
      "metadata": {
        "colab": {
          "base_uri": "https://localhost:8080/"
        },
        "id": "OxP5Op3jL2YA",
        "outputId": "40e21f14-8d3e-4da4-95ac-67beb6fcdc88"
      },
      "execution_count": 86,
      "outputs": [
        {
          "output_type": "stream",
          "name": "stdout",
          "text": [
            "Epoch 1/50\n",
            "200/200 [==============================] - 5s 17ms/step - loss: 2.1302 - accuracy: 0.2928 - lr: 1.0000e-05\n",
            "Epoch 2/50\n",
            "200/200 [==============================] - 3s 17ms/step - loss: 1.6623 - accuracy: 0.6679 - lr: 1.2589e-05\n",
            "Epoch 3/50\n",
            "200/200 [==============================] - 3s 15ms/step - loss: 1.1321 - accuracy: 0.8026 - lr: 1.5849e-05\n",
            "Epoch 4/50\n",
            "200/200 [==============================] - 3s 15ms/step - loss: 0.7531 - accuracy: 0.8536 - lr: 1.9953e-05\n",
            "Epoch 5/50\n",
            "200/200 [==============================] - 4s 19ms/step - loss: 0.5429 - accuracy: 0.8806 - lr: 2.5119e-05\n",
            "Epoch 6/50\n",
            "200/200 [==============================] - 3s 15ms/step - loss: 0.4277 - accuracy: 0.8975 - lr: 3.1623e-05\n",
            "Epoch 7/50\n",
            "200/200 [==============================] - 3s 15ms/step - loss: 0.3572 - accuracy: 0.9078 - lr: 3.9811e-05\n",
            "Epoch 8/50\n",
            "200/200 [==============================] - 4s 21ms/step - loss: 0.3083 - accuracy: 0.9171 - lr: 5.0119e-05\n",
            "Epoch 9/50\n",
            "200/200 [==============================] - 3s 15ms/step - loss: 0.2703 - accuracy: 0.9257 - lr: 6.3096e-05\n",
            "Epoch 10/50\n",
            "200/200 [==============================] - 3s 15ms/step - loss: 0.2386 - accuracy: 0.9347 - lr: 7.9433e-05\n",
            "Epoch 11/50\n",
            "200/200 [==============================] - 4s 21ms/step - loss: 0.2102 - accuracy: 0.9412 - lr: 1.0000e-04\n",
            "Epoch 12/50\n",
            "200/200 [==============================] - 3s 16ms/step - loss: 0.1848 - accuracy: 0.9473 - lr: 1.2589e-04\n",
            "Epoch 13/50\n",
            "200/200 [==============================] - 3s 15ms/step - loss: 0.1592 - accuracy: 0.9567 - lr: 1.5849e-04\n",
            "Epoch 14/50\n",
            "200/200 [==============================] - 4s 20ms/step - loss: 0.1368 - accuracy: 0.9627 - lr: 1.9953e-04\n",
            "Epoch 15/50\n",
            "200/200 [==============================] - 3s 17ms/step - loss: 0.1164 - accuracy: 0.9676 - lr: 2.5119e-04\n",
            "Epoch 16/50\n",
            "200/200 [==============================] - 3s 16ms/step - loss: 0.0984 - accuracy: 0.9728 - lr: 3.1623e-04\n",
            "Epoch 17/50\n",
            "200/200 [==============================] - 4s 18ms/step - loss: 0.0787 - accuracy: 0.9780 - lr: 3.9811e-04\n",
            "Epoch 18/50\n",
            "200/200 [==============================] - 3s 15ms/step - loss: 0.0665 - accuracy: 0.9818 - lr: 5.0119e-04\n",
            "Epoch 19/50\n",
            "200/200 [==============================] - 3s 15ms/step - loss: 0.0528 - accuracy: 0.9849 - lr: 6.3096e-04\n",
            "Epoch 20/50\n",
            "200/200 [==============================] - 4s 19ms/step - loss: 0.0464 - accuracy: 0.9858 - lr: 7.9433e-04\n",
            "Epoch 21/50\n",
            "200/200 [==============================] - 5s 24ms/step - loss: 0.0396 - accuracy: 0.9879 - lr: 0.0010\n",
            "Epoch 22/50\n",
            "200/200 [==============================] - 3s 15ms/step - loss: 0.0451 - accuracy: 0.9854 - lr: 0.0013\n",
            "Epoch 23/50\n",
            "200/200 [==============================] - 4s 18ms/step - loss: 0.0695 - accuracy: 0.9762 - lr: 0.0016\n",
            "Epoch 24/50\n",
            "200/200 [==============================] - 3s 15ms/step - loss: 0.0533 - accuracy: 0.9815 - lr: 0.0020\n",
            "Epoch 25/50\n",
            "200/200 [==============================] - 4s 21ms/step - loss: 0.0645 - accuracy: 0.9783 - lr: 0.0025\n",
            "Epoch 26/50\n",
            "200/200 [==============================] - 3s 15ms/step - loss: 0.0620 - accuracy: 0.9805 - lr: 0.0032\n",
            "Epoch 27/50\n",
            "200/200 [==============================] - 3s 16ms/step - loss: 0.0781 - accuracy: 0.9760 - lr: 0.0040\n",
            "Epoch 28/50\n",
            "200/200 [==============================] - 4s 22ms/step - loss: 0.0786 - accuracy: 0.9748 - lr: 0.0050\n",
            "Epoch 29/50\n",
            "200/200 [==============================] - 3s 16ms/step - loss: 0.0837 - accuracy: 0.9738 - lr: 0.0063\n",
            "Epoch 30/50\n",
            "200/200 [==============================] - 3s 15ms/step - loss: 0.1060 - accuracy: 0.9697 - lr: 0.0079\n",
            "Epoch 31/50\n",
            "200/200 [==============================] - 4s 22ms/step - loss: 0.1432 - accuracy: 0.9620 - lr: 0.0100\n",
            "Epoch 32/50\n",
            "200/200 [==============================] - 3s 15ms/step - loss: 0.1978 - accuracy: 0.9517 - lr: 0.0126\n",
            "Epoch 33/50\n",
            "200/200 [==============================] - 3s 16ms/step - loss: 0.2768 - accuracy: 0.9402 - lr: 0.0158\n",
            "Epoch 34/50\n",
            "200/200 [==============================] - 3s 17ms/step - loss: 0.3321 - accuracy: 0.9280 - lr: 0.0200\n",
            "Epoch 35/50\n",
            "200/200 [==============================] - 3s 15ms/step - loss: 0.3065 - accuracy: 0.9345 - lr: 0.0251\n",
            "Epoch 36/50\n",
            "200/200 [==============================] - 3s 17ms/step - loss: 0.6601 - accuracy: 0.8486 - lr: 0.0316\n",
            "Epoch 37/50\n",
            "200/200 [==============================] - 3s 15ms/step - loss: 1.2329 - accuracy: 0.6116 - lr: 0.0398\n",
            "Epoch 38/50\n",
            "200/200 [==============================] - 3s 16ms/step - loss: 1.8954 - accuracy: 0.3683 - lr: 0.0501\n",
            "Epoch 39/50\n",
            "200/200 [==============================] - 4s 21ms/step - loss: 2.1530 - accuracy: 0.2349 - lr: 0.0631\n",
            "Epoch 40/50\n",
            "200/200 [==============================] - 3s 16ms/step - loss: 2.2719 - accuracy: 0.2115 - lr: 0.0794\n",
            "Epoch 41/50\n",
            "200/200 [==============================] - 3s 15ms/step - loss: 2.1702 - accuracy: 0.1702 - lr: 0.1000\n",
            "Epoch 42/50\n",
            "200/200 [==============================] - 4s 22ms/step - loss: 2.4743 - accuracy: 0.1176 - lr: 0.1259\n",
            "Epoch 43/50\n",
            "200/200 [==============================] - 3s 15ms/step - loss: 2.3126 - accuracy: 0.1015 - lr: 0.1585\n",
            "Epoch 44/50\n",
            "200/200 [==============================] - 3s 16ms/step - loss: 2.3180 - accuracy: 0.1006 - lr: 0.1995\n",
            "Epoch 45/50\n",
            "200/200 [==============================] - 4s 19ms/step - loss: 2.3176 - accuracy: 0.1010 - lr: 0.2512\n",
            "Epoch 46/50\n",
            "200/200 [==============================] - 3s 15ms/step - loss: 2.3271 - accuracy: 0.1074 - lr: 0.3162\n",
            "Epoch 47/50\n",
            "200/200 [==============================] - 3s 16ms/step - loss: 2.3315 - accuracy: 0.0988 - lr: 0.3981\n",
            "Epoch 48/50\n",
            "200/200 [==============================] - 4s 18ms/step - loss: 2.3351 - accuracy: 0.1024 - lr: 0.5012\n",
            "Epoch 49/50\n",
            "200/200 [==============================] - 3s 16ms/step - loss: 2.3433 - accuracy: 0.0995 - lr: 0.6310\n",
            "Epoch 50/50\n",
            "200/200 [==============================] - 3s 15ms/step - loss: 2.3526 - accuracy: 0.0986 - lr: 0.7943\n"
          ]
        }
      ]
    },
    {
      "cell_type": "code",
      "source": [
        "fig = plt.figure(figsize = (9,4.5))\n",
        "plt.plot(model_h.history['lr'], model_h.history['loss'], marker  = 'x')\n",
        "plt.xscale('log')\n",
        "plt.xlabel('log learning-rate')\n",
        "plt.ylabel('loss value')\n",
        "plt.grid(True, which = 'both')"
      ],
      "metadata": {
        "colab": {
          "base_uri": "https://localhost:8080/",
          "height": 431
        },
        "id": "SvMR6C-bMBS5",
        "outputId": "fe3ca7fb-6834-416e-b03e-1794ae3ac60f"
      },
      "execution_count": 104,
      "outputs": [
        {
          "output_type": "display_data",
          "data": {
            "text/plain": [
              "<Figure size 900x450 with 1 Axes>"
            ],
            "image/png": "[encoded data removed]"
          },
          "metadata": {}
        }
      ]
    },
    {
      "cell_type": "markdown",
      "source": [
        "Alright, we can begin at $5·10^{-3}$, where is already a bit unstable, but as we progress we will decrease the learning rate with another scheduller and we will see what happens \n"
      ],
      "metadata": {
        "id": "hg1OzCp9Oj4U"
      }
    },
    {
      "cell_type": "code",
      "source": [
        "INITIAL_LR = 5*1e-3\n",
        "\n",
        "lr_schedule = tf.keras.callbacks.LearningRateScheduler(lambda epoch : INITIAL_LR / (10 ** (epoch // 25)))\n",
        "\n",
        "optimizer = tf.keras.optimizers.Adam(learning_rate= INITIAL_LR) # So we have the same initial learning rate as the equation\n",
        "\n",
        "model = tf.keras.Sequential(\n",
        "    [\n",
        "        tf.keras.layers.Dense(512, activation = 'relu', input_shape = (28*28,)),\n",
        "        tf.keras.layers.Dense(128, activation = 'relu'),\n",
        "        tf.keras.layers.Dense(10, activation = 'softmax')\n",
        "    ]\n",
        ")\n",
        "\n",
        "\n",
        "model.compile(\n",
        "    loss = tf.keras.losses.SparseCategoricalCrossentropy(),\n",
        "    optimizer = optimizer,\n",
        "    metrics = ['accuracy']\n",
        ")\n",
        "\n",
        "model_h = model.fit(dataset, epochs = 50, callbacks=[lr_schedule])"
      ],
      "metadata": {
        "colab": {
          "base_uri": "https://localhost:8080/"
        },
        "id": "Gd9MihbbNZyh",
        "outputId": "c13b6481-1ff3-4902-a249-f468e30660ba"
      },
      "execution_count": 129,
      "outputs": [
        {
          "output_type": "stream",
          "name": "stdout",
          "text": [
            "Epoch 1/50\n",
            "200/200 [==============================] - 4s 16ms/step - loss: 0.3065 - accuracy: 0.9045 - lr: 0.0050\n",
            "Epoch 2/50\n",
            "200/200 [==============================] - 4s 21ms/step - loss: 0.1329 - accuracy: 0.9597 - lr: 0.0050\n",
            "Epoch 3/50\n",
            "200/200 [==============================] - 4s 18ms/step - loss: 0.0913 - accuracy: 0.9706 - lr: 0.0050\n",
            "Epoch 4/50\n",
            "200/200 [==============================] - 4s 18ms/step - loss: 0.0685 - accuracy: 0.9785 - lr: 0.0050\n",
            "Epoch 5/50\n",
            "200/200 [==============================] - 3s 16ms/step - loss: 0.0588 - accuracy: 0.9806 - lr: 0.0050\n",
            "Epoch 6/50\n",
            "200/200 [==============================] - 3s 16ms/step - loss: 0.0416 - accuracy: 0.9866 - lr: 0.0050\n",
            "Epoch 7/50\n",
            "200/200 [==============================] - 3s 15ms/step - loss: 0.0424 - accuracy: 0.9865 - lr: 0.0050\n",
            "Epoch 8/50\n",
            "200/200 [==============================] - 3s 16ms/step - loss: 0.0339 - accuracy: 0.9894 - lr: 0.0050\n",
            "Epoch 9/50\n",
            "200/200 [==============================] - 4s 20ms/step - loss: 0.0469 - accuracy: 0.9862 - lr: 0.0050\n",
            "Epoch 10/50\n",
            "200/200 [==============================] - 3s 15ms/step - loss: 0.0381 - accuracy: 0.9888 - lr: 0.0050\n",
            "Epoch 11/50\n",
            "200/200 [==============================] - 4s 19ms/step - loss: 0.0260 - accuracy: 0.9917 - lr: 0.0050\n",
            "Epoch 12/50\n",
            "200/200 [==============================] - 3s 16ms/step - loss: 0.0292 - accuracy: 0.9915 - lr: 0.0050\n",
            "Epoch 13/50\n",
            "200/200 [==============================] - 3s 16ms/step - loss: 0.0282 - accuracy: 0.9923 - lr: 0.0050\n",
            "Epoch 14/50\n",
            "200/200 [==============================] - 4s 19ms/step - loss: 0.0260 - accuracy: 0.9928 - lr: 0.0050\n",
            "Epoch 15/50\n",
            "200/200 [==============================] - 3s 16ms/step - loss: 0.0446 - accuracy: 0.9877 - lr: 0.0050\n",
            "Epoch 16/50\n",
            "200/200 [==============================] - 4s 17ms/step - loss: 0.0265 - accuracy: 0.9922 - lr: 0.0050\n",
            "Epoch 17/50\n",
            "200/200 [==============================] - 3s 16ms/step - loss: 0.0225 - accuracy: 0.9939 - lr: 0.0050\n",
            "Epoch 18/50\n",
            "200/200 [==============================] - 3s 16ms/step - loss: 0.0113 - accuracy: 0.9964 - lr: 0.0050\n",
            "Epoch 19/50\n",
            "200/200 [==============================] - 4s 21ms/step - loss: 0.0238 - accuracy: 0.9934 - lr: 0.0050\n",
            "Epoch 20/50\n",
            "200/200 [==============================] - 3s 15ms/step - loss: 0.0302 - accuracy: 0.9925 - lr: 0.0050\n",
            "Epoch 21/50\n",
            "200/200 [==============================] - 3s 16ms/step - loss: 0.0186 - accuracy: 0.9945 - lr: 0.0050\n",
            "Epoch 22/50\n",
            "200/200 [==============================] - 4s 21ms/step - loss: 0.0476 - accuracy: 0.9888 - lr: 0.0050\n",
            "Epoch 23/50\n",
            "200/200 [==============================] - 3s 15ms/step - loss: 0.0298 - accuracy: 0.9924 - lr: 0.0050\n",
            "Epoch 24/50\n",
            "200/200 [==============================] - 3s 15ms/step - loss: 0.0174 - accuracy: 0.9951 - lr: 0.0050\n",
            "Epoch 25/50\n",
            "200/200 [==============================] - 4s 22ms/step - loss: 0.0123 - accuracy: 0.9963 - lr: 0.0050\n",
            "Epoch 26/50\n",
            "200/200 [==============================] - 3s 15ms/step - loss: 0.0034 - accuracy: 0.9988 - lr: 5.0000e-04\n",
            "Epoch 27/50\n",
            "200/200 [==============================] - 3s 15ms/step - loss: 3.1337e-04 - accuracy: 1.0000 - lr: 5.0000e-04\n",
            "Epoch 28/50\n",
            "200/200 [==============================] - 4s 22ms/step - loss: 2.2800e-04 - accuracy: 1.0000 - lr: 5.0000e-04\n",
            "Epoch 29/50\n",
            "200/200 [==============================] - 3s 15ms/step - loss: 1.8399e-04 - accuracy: 1.0000 - lr: 5.0000e-04\n",
            "Epoch 30/50\n",
            "200/200 [==============================] - 3s 16ms/step - loss: 1.5441e-04 - accuracy: 1.0000 - lr: 5.0000e-04\n",
            "Epoch 31/50\n",
            "200/200 [==============================] - 4s 19ms/step - loss: 1.3229e-04 - accuracy: 1.0000 - lr: 5.0000e-04\n",
            "Epoch 32/50\n",
            "200/200 [==============================] - 3s 16ms/step - loss: 1.1547e-04 - accuracy: 1.0000 - lr: 5.0000e-04\n",
            "Epoch 33/50\n",
            "200/200 [==============================] - 4s 21ms/step - loss: 1.0181e-04 - accuracy: 1.0000 - lr: 5.0000e-04\n",
            "Epoch 34/50\n",
            "200/200 [==============================] - 5s 26ms/step - loss: 9.0386e-05 - accuracy: 1.0000 - lr: 5.0000e-04\n",
            "Epoch 35/50\n",
            "200/200 [==============================] - 3s 16ms/step - loss: 8.0745e-05 - accuracy: 1.0000 - lr: 5.0000e-04\n",
            "Epoch 36/50\n",
            "200/200 [==============================] - 3s 17ms/step - loss: 7.2322e-05 - accuracy: 1.0000 - lr: 5.0000e-04\n",
            "Epoch 37/50\n",
            "200/200 [==============================] - 3s 15ms/step - loss: 6.5159e-05 - accuracy: 1.0000 - lr: 5.0000e-04\n",
            "Epoch 38/50\n",
            "200/200 [==============================] - 3s 16ms/step - loss: 5.8818e-05 - accuracy: 1.0000 - lr: 5.0000e-04\n",
            "Epoch 39/50\n",
            "200/200 [==============================] - 3s 15ms/step - loss: 5.3229e-05 - accuracy: 1.0000 - lr: 5.0000e-04\n",
            "Epoch 40/50\n",
            "200/200 [==============================] - 4s 21ms/step - loss: 4.8283e-05 - accuracy: 1.0000 - lr: 5.0000e-04\n",
            "Epoch 41/50\n",
            "200/200 [==============================] - 3s 15ms/step - loss: 4.3838e-05 - accuracy: 1.0000 - lr: 5.0000e-04\n",
            "Epoch 42/50\n",
            "200/200 [==============================] - 3s 16ms/step - loss: 3.9833e-05 - accuracy: 1.0000 - lr: 5.0000e-04\n",
            "Epoch 43/50\n",
            "200/200 [==============================] - 3s 17ms/step - loss: 3.6270e-05 - accuracy: 1.0000 - lr: 5.0000e-04\n",
            "Epoch 44/50\n",
            "200/200 [==============================] - 3s 16ms/step - loss: 3.3035e-05 - accuracy: 1.0000 - lr: 5.0000e-04\n",
            "Epoch 45/50\n",
            "200/200 [==============================] - 3s 17ms/step - loss: 3.0112e-05 - accuracy: 1.0000 - lr: 5.0000e-04\n",
            "Epoch 46/50\n",
            "200/200 [==============================] - 3s 16ms/step - loss: 2.7436e-05 - accuracy: 1.0000 - lr: 5.0000e-04\n",
            "Epoch 47/50\n",
            "200/200 [==============================] - 3s 16ms/step - loss: 2.5028e-05 - accuracy: 1.0000 - lr: 5.0000e-04\n",
            "Epoch 48/50\n",
            "200/200 [==============================] - 4s 21ms/step - loss: 2.2811e-05 - accuracy: 1.0000 - lr: 5.0000e-04\n",
            "Epoch 49/50\n",
            "200/200 [==============================] - 3s 15ms/step - loss: 2.0777e-05 - accuracy: 1.0000 - lr: 5.0000e-04\n",
            "Epoch 50/50\n",
            "200/200 [==============================] - 3s 16ms/step - loss: 1.8948e-05 - accuracy: 1.0000 - lr: 5.0000e-04\n"
          ]
        }
      ]
    },
    {
      "cell_type": "code",
      "source": [
        "fig = plt.figure(figsize = (9,4.5))\n",
        "plt.plot(model_h.epoch, model_h.history['loss'], marker  = 'x')\n",
        "for lr in set(model_h.history['lr']):\n",
        "  ind =  model_h.history['lr'].index(lr)\n",
        "  plt.vlines(model_h.epoch[ind],ymin = 0, ymax = max(model_h.history['loss']) + max(model_h.history['loss'])*.05, color = 'r')\n",
        "\n",
        "plt.xlabel('epoch')\n",
        "plt.ylabel('loss value')\n",
        "plt.grid(True, which = 'both')"
      ],
      "metadata": {
        "colab": {
          "base_uri": "https://localhost:8080/",
          "height": 426
        },
        "id": "5RiZr3lLQvqt",
        "outputId": "dbbbf6e6-5efd-4e81-df5c-0384ac937aae"
      },
      "execution_count": 137,
      "outputs": [
        {
          "output_type": "display_data",
          "data": {
            "text/plain": [
              "<Figure size 900x450 with 1 Axes>"
            ],
            "image/png": "[encoded data removed]"
          },
          "metadata": {}
        }
      ]
    },
    {
      "cell_type": "markdown",
      "source": [
        "So, did the change in lr improved the training towards a lower value of loss, or was the epoch number the main culprit?"
      ],
      "metadata": {
        "id": "da9b6PvFTTbc"
      }
    },
    {
      "cell_type": "code",
      "source": [
        "INITIAL_LR = 1*1e-2\n",
        "\n",
        "lr_schedule = tf.keras.callbacks.LearningRateScheduler(lambda epoch : INITIAL_LR / (10 ** (epoch // 10)))\n",
        "\n",
        "optimizer = tf.keras.optimizers.Adam(learning_rate= INITIAL_LR) # So we have the same initial learning rate as the equation\n",
        "\n",
        "model = tf.keras.Sequential(\n",
        "    [\n",
        "        tf.keras.layers.Dense(512, activation = 'relu', input_shape = (28*28,)),\n",
        "        tf.keras.layers.Dense(128, activation = 'relu'),\n",
        "        tf.keras.layers.Dense(10, activation = 'softmax')\n",
        "    ]\n",
        ")\n",
        "\n",
        "\n",
        "model.compile(\n",
        "    loss = tf.keras.losses.SparseCategoricalCrossentropy(),\n",
        "    optimizer = optimizer,\n",
        "    metrics = ['accuracy']\n",
        ")\n",
        "\n",
        "model_h = model.fit(dataset, epochs = 50, callbacks=[lr_schedule])"
      ],
      "metadata": {
        "colab": {
          "base_uri": "https://localhost:8080/"
        },
        "id": "CaKTw7JWS5Aq",
        "outputId": "b1e18504-d77b-4024-cc09-21836ea8e825"
      },
      "execution_count": 138,
      "outputs": [
        {
          "output_type": "stream",
          "name": "stdout",
          "text": [
            "Epoch 1/50\n",
            "200/200 [==============================] - 4s 15ms/step - loss: 0.3526 - accuracy: 0.8917 - lr: 0.0100\n",
            "Epoch 2/50\n",
            "200/200 [==============================] - 4s 19ms/step - loss: 0.1544 - accuracy: 0.9544 - lr: 0.0100\n",
            "Epoch 3/50\n",
            "200/200 [==============================] - 4s 19ms/step - loss: 0.1185 - accuracy: 0.9627 - lr: 0.0100\n",
            "Epoch 4/50\n",
            "200/200 [==============================] - 3s 15ms/step - loss: 0.0953 - accuracy: 0.9707 - lr: 0.0100\n",
            "Epoch 5/50\n",
            "200/200 [==============================] - 3s 17ms/step - loss: 0.0860 - accuracy: 0.9735 - lr: 0.0100\n",
            "Epoch 6/50\n",
            "200/200 [==============================] - 3s 16ms/step - loss: 0.0809 - accuracy: 0.9760 - lr: 0.0100\n",
            "Epoch 7/50\n",
            "200/200 [==============================] - 3s 15ms/step - loss: 0.0788 - accuracy: 0.9768 - lr: 0.0100\n",
            "Epoch 8/50\n",
            "200/200 [==============================] - 4s 22ms/step - loss: 0.0747 - accuracy: 0.9778 - lr: 0.0100\n",
            "Epoch 9/50\n",
            "200/200 [==============================] - 5s 23ms/step - loss: 0.0810 - accuracy: 0.9779 - lr: 0.0100\n",
            "Epoch 10/50\n",
            "200/200 [==============================] - 4s 19ms/step - loss: 0.0434 - accuracy: 0.9866 - lr: 0.0100\n",
            "Epoch 11/50\n",
            "200/200 [==============================] - 4s 22ms/step - loss: 0.0206 - accuracy: 0.9938 - lr: 0.0010\n",
            "Epoch 12/50\n",
            "200/200 [==============================] - 3s 15ms/step - loss: 0.0068 - accuracy: 0.9982 - lr: 0.0010\n",
            "Epoch 13/50\n",
            "200/200 [==============================] - 3s 15ms/step - loss: 0.0040 - accuracy: 0.9991 - lr: 0.0010\n",
            "Epoch 14/50\n",
            "200/200 [==============================] - 5s 25ms/step - loss: 0.0027 - accuracy: 0.9995 - lr: 0.0010\n",
            "Epoch 15/50\n",
            "200/200 [==============================] - 5s 24ms/step - loss: 0.0021 - accuracy: 0.9996 - lr: 0.0010\n",
            "Epoch 16/50\n",
            "200/200 [==============================] - 3s 17ms/step - loss: 0.0017 - accuracy: 0.9997 - lr: 0.0010\n",
            "Epoch 17/50\n",
            "200/200 [==============================] - 3s 16ms/step - loss: 0.0014 - accuracy: 0.9998 - lr: 0.0010\n",
            "Epoch 18/50\n",
            "200/200 [==============================] - 3s 15ms/step - loss: 0.0011 - accuracy: 0.9998 - lr: 0.0010\n",
            "Epoch 19/50\n",
            "200/200 [==============================] - 4s 20ms/step - loss: 9.5248e-04 - accuracy: 0.9998 - lr: 0.0010\n",
            "Epoch 20/50\n",
            "200/200 [==============================] - 5s 24ms/step - loss: 7.8481e-04 - accuracy: 0.9999 - lr: 0.0010\n",
            "Epoch 21/50\n",
            "200/200 [==============================] - 4s 21ms/step - loss: 6.4474e-04 - accuracy: 0.9999 - lr: 1.0000e-04\n",
            "Epoch 22/50\n",
            "200/200 [==============================] - 4s 21ms/step - loss: 6.2886e-04 - accuracy: 0.9999 - lr: 1.0000e-04\n",
            "Epoch 23/50\n",
            "200/200 [==============================] - 3s 16ms/step - loss: 6.1493e-04 - accuracy: 0.9999 - lr: 1.0000e-04\n",
            "Epoch 24/50\n",
            "200/200 [==============================] - 3s 15ms/step - loss: 6.0054e-04 - accuracy: 0.9999 - lr: 1.0000e-04\n",
            "Epoch 25/50\n",
            "200/200 [==============================] - 4s 21ms/step - loss: 5.8576e-04 - accuracy: 0.9999 - lr: 1.0000e-04\n",
            "Epoch 26/50\n",
            "200/200 [==============================] - 3s 16ms/step - loss: 5.7137e-04 - accuracy: 0.9999 - lr: 1.0000e-04\n",
            "Epoch 27/50\n",
            "200/200 [==============================] - 5s 22ms/step - loss: 5.5574e-04 - accuracy: 0.9999 - lr: 1.0000e-04\n",
            "Epoch 28/50\n",
            "200/200 [==============================] - 4s 21ms/step - loss: 5.3701e-04 - accuracy: 0.9999 - lr: 1.0000e-04\n",
            "Epoch 29/50\n",
            "200/200 [==============================] - 3s 15ms/step - loss: 5.1852e-04 - accuracy: 0.9999 - lr: 1.0000e-04\n",
            "Epoch 30/50\n",
            "200/200 [==============================] - 3s 15ms/step - loss: 5.0251e-04 - accuracy: 0.9999 - lr: 1.0000e-04\n",
            "Epoch 31/50\n",
            "200/200 [==============================] - 4s 21ms/step - loss: 4.8247e-04 - accuracy: 0.9999 - lr: 1.0000e-05\n",
            "Epoch 32/50\n",
            "200/200 [==============================] - 3s 15ms/step - loss: 4.8048e-04 - accuracy: 0.9999 - lr: 1.0000e-05\n",
            "Epoch 33/50\n",
            "200/200 [==============================] - 3s 15ms/step - loss: 4.7849e-04 - accuracy: 0.9999 - lr: 1.0000e-05\n",
            "Epoch 34/50\n",
            "200/200 [==============================] - 3s 15ms/step - loss: 4.7621e-04 - accuracy: 0.9999 - lr: 1.0000e-05\n",
            "Epoch 35/50\n",
            "200/200 [==============================] - 3s 15ms/step - loss: 4.7392e-04 - accuracy: 0.9999 - lr: 1.0000e-05\n",
            "Epoch 36/50\n",
            "200/200 [==============================] - 4s 19ms/step - loss: 4.7134e-04 - accuracy: 0.9999 - lr: 1.0000e-05\n",
            "Epoch 37/50\n",
            "200/200 [==============================] - 3s 15ms/step - loss: 4.6866e-04 - accuracy: 0.9999 - lr: 1.0000e-05\n",
            "Epoch 38/50\n",
            "200/200 [==============================] - 4s 19ms/step - loss: 4.6579e-04 - accuracy: 0.9999 - lr: 1.0000e-05\n",
            "Epoch 39/50\n",
            "200/200 [==============================] - 3s 15ms/step - loss: 4.6264e-04 - accuracy: 0.9999 - lr: 1.0000e-05\n",
            "Epoch 40/50\n",
            "200/200 [==============================] - 3s 15ms/step - loss: 4.5938e-04 - accuracy: 0.9999 - lr: 1.0000e-05\n",
            "Epoch 41/50\n",
            "200/200 [==============================] - 4s 18ms/step - loss: 4.5568e-04 - accuracy: 0.9999 - lr: 1.0000e-06\n",
            "Epoch 42/50\n",
            "200/200 [==============================] - 3s 15ms/step - loss: 4.5529e-04 - accuracy: 0.9999 - lr: 1.0000e-06\n",
            "Epoch 43/50\n",
            "200/200 [==============================] - 3s 16ms/step - loss: 4.5487e-04 - accuracy: 0.9999 - lr: 1.0000e-06\n",
            "Epoch 44/50\n",
            "200/200 [==============================] - 3s 15ms/step - loss: 4.5443e-04 - accuracy: 0.9999 - lr: 1.0000e-06\n",
            "Epoch 45/50\n",
            "200/200 [==============================] - 3s 15ms/step - loss: 4.5396e-04 - accuracy: 0.9999 - lr: 1.0000e-06\n",
            "Epoch 46/50\n",
            "200/200 [==============================] - 4s 19ms/step - loss: 4.5346e-04 - accuracy: 0.9999 - lr: 1.0000e-06\n",
            "Epoch 47/50\n",
            "200/200 [==============================] - 3s 16ms/step - loss: 4.5295e-04 - accuracy: 0.9999 - lr: 1.0000e-06\n",
            "Epoch 48/50\n",
            "200/200 [==============================] - 3s 15ms/step - loss: 4.5239e-04 - accuracy: 0.9999 - lr: 1.0000e-06\n",
            "Epoch 49/50\n",
            "200/200 [==============================] - 4s 22ms/step - loss: 4.5182e-04 - accuracy: 0.9999 - lr: 1.0000e-06\n",
            "Epoch 50/50\n",
            "200/200 [==============================] - 3s 16ms/step - loss: 4.5118e-04 - accuracy: 0.9999 - lr: 1.0000e-06\n"
          ]
        }
      ]
    },
    {
      "cell_type": "code",
      "source": [
        "fig, axis  = plt.subplots(nrows = 1, ncols = 2, figsize = (15,4.5), squeeze = False)\n",
        "axis[0,0].plot(model_h.epoch, model_h.history['loss'], marker  = 'x')\n",
        "for lr in set(model_h.history['lr']):\n",
        "  ind =  model_h.history['lr'].index(lr)\n",
        "  axis[0,0].vlines(model_h.epoch[ind],ymin = 0, ymax = max(model_h.history['loss']) + max(model_h.history['loss'])*.05, color = 'r')\n",
        "\n",
        "axis[0,0].set_xlabel('epoch')\n",
        "axis[0,0].set_ylabel('loss value')\n",
        "axis[0,0].grid(True, which = 'both')\n",
        "\n",
        "\n",
        "axis[0,1].plot(model_h.epoch, model_h.history['accuracy'], marker  = 'x')\n",
        "for lr in set(model_h.history['lr']):\n",
        "  ind =  model_h.history['lr'].index(lr)\n",
        "  axis[0,1].vlines(model_h.epoch[ind],ymin = min(model_h.history['accuracy']) - min(model_h.history['accuracy'])*.05, ymax = max(model_h.history['accuracy']) + max(model_h.history['accuracy'])*.05, color = 'r')\n",
        "\n",
        "axis[0,1].set_xlabel('epoch')\n",
        "axis[0,1].set_ylabel('accuracy')\n",
        "axis[0,1].grid(True)\n"
      ],
      "metadata": {
        "colab": {
          "base_uri": "https://localhost:8080/",
          "height": 426
        },
        "id": "hiFkrlUyTnYa",
        "outputId": "4ef7d1b3-61f7-4796-cdbc-be7fd9741af5"
      },
      "execution_count": 143,
      "outputs": [
        {
          "output_type": "display_data",
          "data": {
            "text/plain": [
              "<Figure size 1500x450 with 2 Axes>"
            ],
            "image/png": "[encoded data removed]"
          },
          "metadata": {}
        }
      ]
    },
    {
      "cell_type": "markdown",
      "source": [
        "We are probably overfitting the model during training.\n",
        "\n",
        "Let's include a testing set, and get the testing accuracy along with the training"
      ],
      "metadata": {
        "id": "dt9tXuWWV68M"
      }
    },
    {
      "cell_type": "code",
      "source": [
        "test_path = path_to_file / 'mnist_test.csv'\n",
        "df2 = pd.read_csv(test_path, names = [i for i in range(785)])\n",
        "df2.head(5)"
      ],
      "metadata": {
        "colab": {
          "base_uri": "https://localhost:8080/",
          "height": 236
        },
        "id": "Fhsyigk3U3kk",
        "outputId": "7b5096bd-e2d2-4490-a390-7438c98831d9"
      },
      "execution_count": 146,
      "outputs": [
        {
          "output_type": "execute_result",
          "data": {
            "text/plain": [
              "   0    1    2    3    4    5    6    7    8    9    ...  775  776  777  778  \\\n",
              "0    7    0    0    0    0    0    0    0    0    0  ...    0    0    0    0   \n",
              "1    2    0    0    0    0    0    0    0    0    0  ...    0    0    0    0   \n",
              "2    1    0    0    0    0    0    0    0    0    0  ...    0    0    0    0   \n",
              "3    0    0    0    0    0    0    0    0    0    0  ...    0    0    0    0   \n",
              "4    4    0    0    0    0    0    0    0    0    0  ...    0    0    0    0   \n",
              "\n",
              "   779  780  781  782  783  784  \n",
              "0    0    0    0    0    0    0  \n",
              "1    0    0    0    0    0    0  \n",
              "2    0    0    0    0    0    0  \n",
              "3    0    0    0    0    0    0  \n",
              "4    0    0    0    0    0    0  \n",
              "\n",
              "[5 rows x 785 columns]"
            ],
            "text/html": [
              "\n",
              "  <div id=\"df-9cfe5c26-2778-416d-8409-08f8bd01fefc\">\n",
              "    <div class=\"colab-df-container\">\n",
              "      <div>\n",
              "<style scoped>\n",
              "    .dataframe tbody tr th:only-of-type {\n",
              "        vertical-align: middle;\n",
              "    }\n",
              "\n",
              "    .dataframe tbody tr th {\n",
              "        vertical-align: top;\n",
              "    }\n",
              "\n",
              "    .dataframe thead th {\n",
              "        text-align: right;\n",
              "    }\n",
              "</style>\n",
              "<table border=\"1\" class=\"dataframe\">\n",
              "  <thead>\n",
              "    <tr style=\"text-align: right;\">\n",
              "      <th></th>\n",
              "      <th>0</th>\n",
              "      <th>1</th>\n",
              "      <th>2</th>\n",
              "      <th>3</th>\n",
              "      <th>4</th>\n",
              "      <th>5</th>\n",
              "      <th>6</th>\n",
              "      <th>7</th>\n",
              "      <th>8</th>\n",
              "      <th>9</th>\n",
              "      <th>...</th>\n",
              "      <th>775</th>\n",
              "      <th>776</th>\n",
              "      <th>777</th>\n",
              "      <th>778</th>\n",
              "      <th>779</th>\n",
              "      <th>780</th>\n",
              "      <th>781</th>\n",
              "      <th>782</th>\n",
              "      <th>783</th>\n",
              "      <th>784</th>\n",
              "    </tr>\n",
              "  </thead>\n",
              "  <tbody>\n",
              "    <tr>\n",
              "      <th>0</th>\n",
              "      <td>7</td>\n",
              "      <td>0</td>\n",
              "      <td>0</td>\n",
              "      <td>0</td>\n",
              "      <td>0</td>\n",
              "      <td>0</td>\n",
              "      <td>0</td>\n",
              "      <td>0</td>\n",
              "      <td>0</td>\n",
              "      <td>0</td>\n",
              "      <td>...</td>\n",
              "      <td>0</td>\n",
              "      <td>0</td>\n",
              "      <td>0</td>\n",
              "      <td>0</td>\n",
              "      <td>0</td>\n",
              "      <td>0</td>\n",
              "      <td>0</td>\n",
              "      <td>0</td>\n",
              "      <td>0</td>\n",
              "      <td>0</td>\n",
              "    </tr>\n",
              "    <tr>\n",
              "      <th>1</th>\n",
              "      <td>2</td>\n",
              "      <td>0</td>\n",
              "      <td>0</td>\n",
              "      <td>0</td>\n",
              "      <td>0</td>\n",
              "      <td>0</td>\n",
              "      <td>0</td>\n",
              "      <td>0</td>\n",
              "      <td>0</td>\n",
              "      <td>0</td>\n",
              "      <td>...</td>\n",
              "      <td>0</td>\n",
              "      <td>0</td>\n",
              "      <td>0</td>\n",
              "      <td>0</td>\n",
              "      <td>0</td>\n",
              "      <td>0</td>\n",
              "      <td>0</td>\n",
              "      <td>0</td>\n",
              "      <td>0</td>\n",
              "      <td>0</td>\n",
              "    </tr>\n",
              "    <tr>\n",
              "      <th>2</th>\n",
              "      <td>1</td>\n",
              "      <td>0</td>\n",
              "      <td>0</td>\n",
              "      <td>0</td>\n",
              "      <td>0</td>\n",
              "      <td>0</td>\n",
              "      <td>0</td>\n",
              "      <td>0</td>\n",
              "      <td>0</td>\n",
              "      <td>0</td>\n",
              "      <td>...</td>\n",
              "      <td>0</td>\n",
              "      <td>0</td>\n",
              "      <td>0</td>\n",
              "      <td>0</td>\n",
              "      <td>0</td>\n",
              "      <td>0</td>\n",
              "      <td>0</td>\n",
              "      <td>0</td>\n",
              "      <td>0</td>\n",
              "      <td>0</td>\n",
              "    </tr>\n",
              "    <tr>\n",
              "      <th>3</th>\n",
              "      <td>0</td>\n",
              "      <td>0</td>\n",
              "      <td>0</td>\n",
              "      <td>0</td>\n",
              "      <td>0</td>\n",
              "      <td>0</td>\n",
              "      <td>0</td>\n",
              "      <td>0</td>\n",
              "      <td>0</td>\n",
              "      <td>0</td>\n",
              "      <td>...</td>\n",
              "      <td>0</td>\n",
              "      <td>0</td>\n",
              "      <td>0</td>\n",
              "      <td>0</td>\n",
              "      <td>0</td>\n",
              "      <td>0</td>\n",
              "      <td>0</td>\n",
              "      <td>0</td>\n",
              "      <td>0</td>\n",
              "      <td>0</td>\n",
              "    </tr>\n",
              "    <tr>\n",
              "      <th>4</th>\n",
              "      <td>4</td>\n",
              "      <td>0</td>\n",
              "      <td>0</td>\n",
              "      <td>0</td>\n",
              "      <td>0</td>\n",
              "      <td>0</td>\n",
              "      <td>0</td>\n",
              "      <td>0</td>\n",
              "      <td>0</td>\n",
              "      <td>0</td>\n",
              "      <td>...</td>\n",
              "      <td>0</td>\n",
              "      <td>0</td>\n",
              "      <td>0</td>\n",
              "      <td>0</td>\n",
              "      <td>0</td>\n",
              "      <td>0</td>\n",
              "      <td>0</td>\n",
              "      <td>0</td>\n",
              "      <td>0</td>\n",
              "      <td>0</td>\n",
              "    </tr>\n",
              "  </tbody>\n",
              "</table>\n",
              "<p>5 rows × 785 columns</p>\n",
              "</div>\n",
              "      <button class=\"colab-df-convert\" onclick=\"convertToInteractive('df-9cfe5c26-2778-416d-8409-08f8bd01fefc')\"\n",
              "              title=\"Convert this dataframe to an interactive table.\"\n",
              "              style=\"display:none;\">\n",
              "        \n",
              "  <svg xmlns=\"http://www.w3.org/2000/svg\" height=\"24px\"viewBox=\"0 0 24 24\"\n",
              "       width=\"24px\">\n",
              "    <path d=\"M0 0h24v24H0V0z\" fill=\"none\"/>\n",
              "    <path d=\"M18.56 5.44l.94 2.06.94-2.06 2.06-.94-2.06-.94-.94-2.06-.94 2.06-2.06.94zm-11 1L8.5 8.5l.94-2.06 2.06-.94-2.06-.94L8.5 2.5l-.94 2.06-2.06.94zm10 10l.94 2.06.94-2.06 2.06-.94-2.06-.94-.94-2.06-.94 2.06-2.06.94z\"/><path d=\"M17.41 7.96l-1.37-1.37c-.4-.4-.92-.59-1.43-.59-.52 0-1.04.2-1.43.59L10.3 9.45l-7.72 7.72c-.78.78-.78 2.05 0 2.83L4 21.41c.39.39.9.59 1.41.59.51 0 1.02-.2 1.41-.59l7.78-7.78 2.81-2.81c.8-.78.8-2.07 0-2.86zM5.41 20L4 18.59l7.72-7.72 1.47 1.35L5.41 20z\"/>\n",
              "  </svg>\n",
              "      </button>\n",
              "      \n",
              "  <style>\n",
              "    .colab-df-container {\n",
              "      display:flex;\n",
              "      flex-wrap:wrap;\n",
              "      gap: 12px;\n",
              "    }\n",
              "\n",
              "    .colab-df-convert {\n",
              "      background-color: #E8F0FE;\n",
              "      border: none;\n",
              "      border-radius: 50%;\n",
              "      cursor: pointer;\n",
              "      display: none;\n",
              "      fill: #1967D2;\n",
              "      height: 32px;\n",
              "      padding: 0 0 0 0;\n",
              "      width: 32px;\n",
              "    }\n",
              "\n",
              "    .colab-df-convert:hover {\n",
              "      background-color: #E2EBFA;\n",
              "      box-shadow: 0px 1px 2px rgba(60, 64, 67, 0.3), 0px 1px 3px 1px rgba(60, 64, 67, 0.15);\n",
              "      fill: #174EA6;\n",
              "    }\n",
              "\n",
              "    [theme=dark] .colab-df-convert {\n",
              "      background-color: #3B4455;\n",
              "      fill: #D2E3FC;\n",
              "    }\n",
              "\n",
              "    [theme=dark] .colab-df-convert:hover {\n",
              "      background-color: #434B5C;\n",
              "      box-shadow: 0px 1px 3px 1px rgba(0, 0, 0, 0.15);\n",
              "      filter: drop-shadow(0px 1px 2px rgba(0, 0, 0, 0.3));\n",
              "      fill: #FFFFFF;\n",
              "    }\n",
              "  </style>\n",
              "\n",
              "      <script>\n",
              "        const buttonEl =\n",
              "          document.querySelector('#df-9cfe5c26-2778-416d-8409-08f8bd01fefc button.colab-df-convert');\n",
              "        buttonEl.style.display =\n",
              "          google.colab.kernel.accessAllowed ? 'block' : 'none';\n",
              "\n",
              "        async function convertToInteractive(key) {\n",
              "          const element = document.querySelector('#df-9cfe5c26-2778-416d-8409-08f8bd01fefc');\n",
              "          const dataTable =\n",
              "            await google.colab.kernel.invokeFunction('convertToInteractive',\n",
              "                                                     [key], {});\n",
              "          if (!dataTable) return;\n",
              "\n",
              "          const docLinkHtml = 'Like what you see? Visit the ' +\n",
              "            '<a target=\"_blank\" href=https://colab.research.google.com/notebooks/data_table.ipynb>data table notebook</a>'\n",
              "            + ' to learn more about interactive tables.';\n",
              "          element.innerHTML = '';\n",
              "          dataTable['output_type'] = 'display_data';\n",
              "          await google.colab.output.renderOutput(dataTable, element);\n",
              "          const docLink = document.createElement('div');\n",
              "          docLink.innerHTML = docLinkHtml;\n",
              "          element.appendChild(docLink);\n",
              "        }\n",
              "      </script>\n",
              "    </div>\n",
              "  </div>\n",
              "  "
            ]
          },
          "metadata": {},
          "execution_count": 146
        }
      ]
    },
    {
      "cell_type": "code",
      "source": [
        "test_ds = tf.data.Dataset.from_tensor_slices(df2.to_numpy().astype(np.float32))\n",
        "\n",
        "test_ds = test_ds.map(lambda data : (data[1:] / 255. , data[0]))\n",
        "test_ds = test_ds.shuffle(1000)\n",
        "test_ds = test_ds.batch(100).prefetch(1)"
      ],
      "metadata": {
        "id": "kQAdKQ6cdgFD"
      },
      "execution_count": 151,
      "outputs": []
    },
    {
      "cell_type": "code",
      "source": [
        "INITIAL_LR = 1*1e-2\n",
        "\n",
        "lr_schedule = tf.keras.callbacks.LearningRateScheduler(lambda epoch : INITIAL_LR / (10 ** (epoch // 10)))\n",
        "\n",
        "optimizer = tf.keras.optimizers.Adam(learning_rate= INITIAL_LR) # So we have the same initial learning rate as the equation\n",
        "\n",
        "model = tf.keras.Sequential(\n",
        "    [\n",
        "        tf.keras.layers.Dense(512, activation = 'relu', input_shape = (28*28,)),\n",
        "        tf.keras.layers.Dense(128, activation = 'relu'),\n",
        "        tf.keras.layers.Dense(10, activation = 'softmax')\n",
        "    ]\n",
        ")\n",
        "\n",
        "\n",
        "model.compile(\n",
        "    loss = tf.keras.losses.SparseCategoricalCrossentropy(),\n",
        "    optimizer = optimizer,\n",
        "    metrics = ['accuracy']\n",
        ")\n",
        "\n",
        "model_h = model.fit(dataset, epochs = 50, callbacks=[lr_schedule], validation_data=test_ds)"
      ],
      "metadata": {
        "colab": {
          "base_uri": "https://localhost:8080/"
        },
        "id": "MqiZHmUHdhZy",
        "outputId": "582caa13-4043-4172-c4ed-9c7cd2cffc1b"
      },
      "execution_count": 152,
      "outputs": [
        {
          "output_type": "stream",
          "name": "stdout",
          "text": [
            "Epoch 1/50\n",
            "200/200 [==============================] - 5s 23ms/step - loss: 0.3566 - accuracy: 0.8947 - val_loss: 0.1782 - val_accuracy: 0.9482 - lr: 0.0100\n",
            "Epoch 2/50\n",
            "200/200 [==============================] - 5s 27ms/step - loss: 0.1551 - accuracy: 0.9528 - val_loss: 0.1598 - val_accuracy: 0.9517 - lr: 0.0100\n",
            "Epoch 3/50\n",
            "200/200 [==============================] - 4s 22ms/step - loss: 0.1117 - accuracy: 0.9663 - val_loss: 0.1685 - val_accuracy: 0.9534 - lr: 0.0100\n",
            "Epoch 4/50\n",
            "200/200 [==============================] - 4s 22ms/step - loss: 0.1015 - accuracy: 0.9688 - val_loss: 0.1918 - val_accuracy: 0.9473 - lr: 0.0100\n",
            "Epoch 5/50\n",
            "200/200 [==============================] - 4s 19ms/step - loss: 0.0843 - accuracy: 0.9750 - val_loss: 0.1615 - val_accuracy: 0.9600 - lr: 0.0100\n",
            "Epoch 6/50\n",
            "200/200 [==============================] - 5s 25ms/step - loss: 0.0845 - accuracy: 0.9738 - val_loss: 0.1896 - val_accuracy: 0.9564 - lr: 0.0100\n",
            "Epoch 7/50\n",
            "200/200 [==============================] - 4s 20ms/step - loss: 0.0743 - accuracy: 0.9783 - val_loss: 0.1692 - val_accuracy: 0.9595 - lr: 0.0100\n",
            "Epoch 8/50\n",
            "200/200 [==============================] - 4s 22ms/step - loss: 0.0688 - accuracy: 0.9796 - val_loss: 0.2075 - val_accuracy: 0.9568 - lr: 0.0100\n",
            "Epoch 9/50\n",
            "200/200 [==============================] - 5s 25ms/step - loss: 0.0616 - accuracy: 0.9827 - val_loss: 0.2104 - val_accuracy: 0.9585 - lr: 0.0100\n",
            "Epoch 10/50\n",
            "200/200 [==============================] - 4s 20ms/step - loss: 0.0839 - accuracy: 0.9796 - val_loss: 0.2395 - val_accuracy: 0.9599 - lr: 0.0100\n",
            "Epoch 11/50\n",
            "200/200 [==============================] - 6s 29ms/step - loss: 0.0289 - accuracy: 0.9915 - val_loss: 0.1703 - val_accuracy: 0.9723 - lr: 0.0010\n",
            "Epoch 12/50\n",
            "200/200 [==============================] - 4s 22ms/step - loss: 0.0099 - accuracy: 0.9973 - val_loss: 0.1695 - val_accuracy: 0.9722 - lr: 0.0010\n",
            "Epoch 13/50\n",
            "200/200 [==============================] - 5s 23ms/step - loss: 0.0058 - accuracy: 0.9985 - val_loss: 0.1715 - val_accuracy: 0.9729 - lr: 0.0010\n",
            "Epoch 14/50\n",
            "200/200 [==============================] - 6s 28ms/step - loss: 0.0043 - accuracy: 0.9992 - val_loss: 0.1738 - val_accuracy: 0.9725 - lr: 0.0010\n",
            "Epoch 15/50\n",
            "200/200 [==============================] - 5s 23ms/step - loss: 0.0034 - accuracy: 0.9994 - val_loss: 0.1761 - val_accuracy: 0.9731 - lr: 0.0010\n",
            "Epoch 16/50\n",
            "200/200 [==============================] - 5s 23ms/step - loss: 0.0027 - accuracy: 0.9995 - val_loss: 0.1782 - val_accuracy: 0.9729 - lr: 0.0010\n",
            "Epoch 17/50\n",
            "200/200 [==============================] - 5s 25ms/step - loss: 0.0022 - accuracy: 0.9997 - val_loss: 0.1803 - val_accuracy: 0.9729 - lr: 0.0010\n",
            "Epoch 18/50\n",
            "200/200 [==============================] - 6s 29ms/step - loss: 0.0018 - accuracy: 0.9998 - val_loss: 0.1826 - val_accuracy: 0.9728 - lr: 0.0010\n",
            "Epoch 19/50\n",
            "200/200 [==============================] - 4s 20ms/step - loss: 0.0015 - accuracy: 0.9998 - val_loss: 0.1845 - val_accuracy: 0.9730 - lr: 0.0010\n",
            "Epoch 20/50\n",
            "200/200 [==============================] - 4s 22ms/step - loss: 0.0012 - accuracy: 0.9998 - val_loss: 0.1861 - val_accuracy: 0.9731 - lr: 0.0010\n",
            "Epoch 21/50\n",
            "200/200 [==============================] - 5s 27ms/step - loss: 0.0010 - accuracy: 0.9998 - val_loss: 0.1863 - val_accuracy: 0.9732 - lr: 1.0000e-04\n",
            "Epoch 22/50\n",
            "200/200 [==============================] - 4s 22ms/step - loss: 9.9771e-04 - accuracy: 0.9998 - val_loss: 0.1865 - val_accuracy: 0.9733 - lr: 1.0000e-04\n",
            "Epoch 23/50\n",
            "200/200 [==============================] - 6s 31ms/step - loss: 9.7599e-04 - accuracy: 0.9998 - val_loss: 0.1868 - val_accuracy: 0.9733 - lr: 1.0000e-04\n",
            "Epoch 24/50\n",
            "200/200 [==============================] - 4s 22ms/step - loss: 9.5399e-04 - accuracy: 0.9998 - val_loss: 0.1871 - val_accuracy: 0.9733 - lr: 1.0000e-04\n",
            "Epoch 25/50\n",
            "200/200 [==============================] - 4s 22ms/step - loss: 9.3213e-04 - accuracy: 0.9998 - val_loss: 0.1874 - val_accuracy: 0.9733 - lr: 1.0000e-04\n",
            "Epoch 26/50\n",
            "200/200 [==============================] - 5s 23ms/step - loss: 9.0857e-04 - accuracy: 0.9999 - val_loss: 0.1878 - val_accuracy: 0.9733 - lr: 1.0000e-04\n",
            "Epoch 27/50\n",
            "200/200 [==============================] - 4s 22ms/step - loss: 8.8472e-04 - accuracy: 0.9999 - val_loss: 0.1881 - val_accuracy: 0.9733 - lr: 1.0000e-04\n",
            "Epoch 28/50\n",
            "200/200 [==============================] - 6s 29ms/step - loss: 8.5996e-04 - accuracy: 0.9999 - val_loss: 0.1885 - val_accuracy: 0.9733 - lr: 1.0000e-04\n",
            "Epoch 29/50\n",
            "200/200 [==============================] - 5s 23ms/step - loss: 8.3480e-04 - accuracy: 0.9999 - val_loss: 0.1888 - val_accuracy: 0.9733 - lr: 1.0000e-04\n",
            "Epoch 30/50\n",
            "200/200 [==============================] - 7s 34ms/step - loss: 8.1005e-04 - accuracy: 0.9999 - val_loss: 0.1893 - val_accuracy: 0.9733 - lr: 1.0000e-04\n",
            "Epoch 31/50\n",
            "200/200 [==============================] - 5s 23ms/step - loss: 7.7921e-04 - accuracy: 0.9999 - val_loss: 0.1893 - val_accuracy: 0.9733 - lr: 1.0000e-05\n",
            "Epoch 32/50\n",
            "200/200 [==============================] - 6s 28ms/step - loss: 7.7629e-04 - accuracy: 0.9999 - val_loss: 0.1894 - val_accuracy: 0.9733 - lr: 1.0000e-05\n",
            "Epoch 33/50\n",
            "200/200 [==============================] - 6s 29ms/step - loss: 7.7323e-04 - accuracy: 0.9999 - val_loss: 0.1894 - val_accuracy: 0.9733 - lr: 1.0000e-05\n",
            "Epoch 34/50\n",
            "200/200 [==============================] - 4s 19ms/step - loss: 7.6986e-04 - accuracy: 0.9999 - val_loss: 0.1895 - val_accuracy: 0.9733 - lr: 1.0000e-05\n",
            "Epoch 35/50\n",
            "200/200 [==============================] - 4s 22ms/step - loss: 7.6630e-04 - accuracy: 0.9999 - val_loss: 0.1896 - val_accuracy: 0.9733 - lr: 1.0000e-05\n",
            "Epoch 36/50\n",
            "200/200 [==============================] - 5s 27ms/step - loss: 7.6252e-04 - accuracy: 0.9999 - val_loss: 0.1896 - val_accuracy: 0.9733 - lr: 1.0000e-05\n",
            "Epoch 37/50\n",
            "200/200 [==============================] - 4s 22ms/step - loss: 7.5843e-04 - accuracy: 0.9999 - val_loss: 0.1897 - val_accuracy: 0.9733 - lr: 1.0000e-05\n",
            "Epoch 38/50\n",
            "200/200 [==============================] - 4s 22ms/step - loss: 7.5425e-04 - accuracy: 0.9999 - val_loss: 0.1898 - val_accuracy: 0.9733 - lr: 1.0000e-05\n",
            "Epoch 39/50\n",
            "200/200 [==============================] - 5s 26ms/step - loss: 7.4975e-04 - accuracy: 0.9999 - val_loss: 0.1899 - val_accuracy: 0.9733 - lr: 1.0000e-05\n",
            "Epoch 40/50\n",
            "200/200 [==============================] - 4s 19ms/step - loss: 7.4486e-04 - accuracy: 0.9999 - val_loss: 0.1900 - val_accuracy: 0.9733 - lr: 1.0000e-05\n",
            "Epoch 41/50\n",
            "200/200 [==============================] - 4s 22ms/step - loss: 7.3931e-04 - accuracy: 0.9999 - val_loss: 0.1900 - val_accuracy: 0.9733 - lr: 1.0000e-06\n",
            "Epoch 42/50\n",
            "200/200 [==============================] - 5s 25ms/step - loss: 7.3875e-04 - accuracy: 0.9999 - val_loss: 0.1900 - val_accuracy: 0.9733 - lr: 1.0000e-06\n",
            "Epoch 43/50\n",
            "200/200 [==============================] - 4s 22ms/step - loss: 7.3816e-04 - accuracy: 0.9999 - val_loss: 0.1900 - val_accuracy: 0.9733 - lr: 1.0000e-06\n",
            "Epoch 44/50\n",
            "200/200 [==============================] - 5s 24ms/step - loss: 7.3753e-04 - accuracy: 0.9999 - val_loss: 0.1900 - val_accuracy: 0.9733 - lr: 1.0000e-06\n",
            "Epoch 45/50\n",
            "200/200 [==============================] - 4s 22ms/step - loss: 7.3689e-04 - accuracy: 0.9999 - val_loss: 0.1900 - val_accuracy: 0.9733 - lr: 1.0000e-06\n",
            "Epoch 46/50\n",
            "200/200 [==============================] - 4s 19ms/step - loss: 7.3621e-04 - accuracy: 0.9999 - val_loss: 0.1901 - val_accuracy: 0.9733 - lr: 1.0000e-06\n",
            "Epoch 47/50\n",
            "200/200 [==============================] - 6s 27ms/step - loss: 7.3549e-04 - accuracy: 0.9999 - val_loss: 0.1901 - val_accuracy: 0.9733 - lr: 1.0000e-06\n",
            "Epoch 48/50\n",
            "200/200 [==============================] - 6s 31ms/step - loss: 7.3476e-04 - accuracy: 0.9999 - val_loss: 0.1901 - val_accuracy: 0.9733 - lr: 1.0000e-06\n",
            "Epoch 49/50\n",
            "200/200 [==============================] - 4s 22ms/step - loss: 7.3397e-04 - accuracy: 0.9999 - val_loss: 0.1901 - val_accuracy: 0.9733 - lr: 1.0000e-06\n",
            "Epoch 50/50\n",
            "200/200 [==============================] - 4s 22ms/step - loss: 7.3317e-04 - accuracy: 0.9999 - val_loss: 0.1901 - val_accuracy: 0.9733 - lr: 1.0000e-06\n"
          ]
        }
      ]
    },
    {
      "cell_type": "code",
      "source": [
        "fig, axis  = plt.subplots(nrows = 1, ncols = 2, figsize = (15,4.5), squeeze = False)\n",
        "axis[0,0].plot(model_h.epoch, model_h.history['loss'], marker  = 'x', c = 'navy', label = 'train')\n",
        "axis[0,0].plot(model_h.epoch, model_h.history['val_loss'], marker  = 'x', c = 'limegreen', label = 'validation')\n",
        "for lr in set(model_h.history['lr']):\n",
        "  ind =  model_h.history['lr'].index(lr)\n",
        "  axis[0,0].vlines(model_h.epoch[ind],ymin = 0, ymax = max(model_h.history['loss']) + max(model_h.history['loss'])*.05, color = 'r')\n",
        "\n",
        "axis[0,0].set_xlabel('epoch')\n",
        "axis[0,0].set_ylabel('loss value')\n",
        "axis[0,0].grid(True, which = 'both')\n",
        "axis[0,0].legend()\n",
        "\n",
        "axis[0,1].plot(model_h.epoch, model_h.history['accuracy'], marker  = 'x', c = 'navy', label = 'train')\n",
        "axis[0,1].plot(model_h.epoch, model_h.history['val_accuracy'], marker  = 'x', c = 'limegreen', label = 'validation')\n",
        "for lr in set(model_h.history['lr']):\n",
        "  ind =  model_h.history['lr'].index(lr)\n",
        "  axis[0,1].vlines(model_h.epoch[ind],ymin = min(model_h.history['accuracy']) - min(model_h.history['accuracy'])*.05, ymax = max(model_h.history['accuracy']) + max(model_h.history['accuracy'])*.05, color = 'r')\n",
        "\n",
        "axis[0,1].set_xlabel('epoch')\n",
        "axis[0,1].set_ylabel('accuracy')\n",
        "axis[0,1].grid(True)\n",
        "axis[0,1].legend()"
      ],
      "metadata": {
        "colab": {
          "base_uri": "https://localhost:8080/",
          "height": 443
        },
        "id": "0OPpvWrEehjF",
        "outputId": "0ab4cd7d-0741-4cf3-f81b-c486991b2f81"
      },
      "execution_count": 155,
      "outputs": [
        {
          "output_type": "execute_result",
          "data": {
            "text/plain": [
              "<matplotlib.legend.Legend at 0x7f66df5e88b0>"
            ]
          },
          "metadata": {},
          "execution_count": 155
        },
        {
          "output_type": "display_data",
          "data": {
            "text/plain": [
              "<Figure size 1500x450 with 2 Axes>"
            ],
            "image/png": "[encoded data removed]"
          },
          "metadata": {}
        }
      ]
    },
    {
      "cell_type": "markdown",
      "source": [
        "Sooo, yes, we are overfitting. Moreover, up until the change in rate, the validation loss is quite erratic, then it increases slowly, to finally stabilize.\n",
        "\n",
        "The accuracy behaves somewhat better, but clearly stagnates after the first change in the accuracy."
      ],
      "metadata": {
        "id": "FTWcZUMvkfjX"
      }
    },
    {
      "cell_type": "code",
      "source": [],
      "metadata": {
        "id": "kNBuVAW5j2ut"
      },
      "execution_count": null,
      "outputs": []
    }
  ]
}